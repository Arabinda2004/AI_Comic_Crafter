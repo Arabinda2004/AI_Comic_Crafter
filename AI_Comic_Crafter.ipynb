{
 "cells": [
  {
   "cell_type": "code",
   "execution_count": 25,
   "metadata": {
    "colab": {
     "base_uri": "https://localhost:8080/"
    },
    "executionInfo": {
     "elapsed": 3626,
     "status": "ok",
     "timestamp": 1743698551582,
     "user": {
      "displayName": "Arabinda",
      "userId": "03145531324300983882"
     },
     "user_tz": -330
    },
    "id": "RNO14QzBd_QC",
    "outputId": "d23a09ee-9be4-4a1c-ea2d-392f4236d59d"
   },
   "outputs": [
    {
     "name": "stdout",
     "output_type": "stream",
     "text": [
      "Requirement already satisfied: streamlit in /usr/local/lib/python3.11/dist-packages (1.44.1)\n",
      "Requirement already satisfied: pyngrok in /usr/local/lib/python3.11/dist-packages (7.2.3)\n",
      "Requirement already satisfied: altair<6,>=4.0 in /usr/local/lib/python3.11/dist-packages (from streamlit) (5.5.0)\n",
      "Requirement already satisfied: blinker<2,>=1.0.0 in /usr/local/lib/python3.11/dist-packages (from streamlit) (1.9.0)\n",
      "Requirement already satisfied: cachetools<6,>=4.0 in /usr/local/lib/python3.11/dist-packages (from streamlit) (5.5.2)\n",
      "Requirement already satisfied: click<9,>=7.0 in /usr/local/lib/python3.11/dist-packages (from streamlit) (8.1.8)\n",
      "Requirement already satisfied: numpy<3,>=1.23 in /usr/local/lib/python3.11/dist-packages (from streamlit) (2.0.2)\n",
      "Requirement already satisfied: packaging<25,>=20 in /usr/local/lib/python3.11/dist-packages (from streamlit) (24.2)\n",
      "Requirement already satisfied: pandas<3,>=1.4.0 in /usr/local/lib/python3.11/dist-packages (from streamlit) (2.2.2)\n",
      "Requirement already satisfied: pillow<12,>=7.1.0 in /usr/local/lib/python3.11/dist-packages (from streamlit) (11.1.0)\n",
      "Requirement already satisfied: protobuf<6,>=3.20 in /usr/local/lib/python3.11/dist-packages (from streamlit) (5.29.4)\n",
      "Requirement already satisfied: pyarrow>=7.0 in /usr/local/lib/python3.11/dist-packages (from streamlit) (18.1.0)\n",
      "Requirement already satisfied: requests<3,>=2.27 in /usr/local/lib/python3.11/dist-packages (from streamlit) (2.32.3)\n",
      "Requirement already satisfied: tenacity<10,>=8.1.0 in /usr/local/lib/python3.11/dist-packages (from streamlit) (9.0.0)\n",
      "Requirement already satisfied: toml<2,>=0.10.1 in /usr/local/lib/python3.11/dist-packages (from streamlit) (0.10.2)\n",
      "Requirement already satisfied: typing-extensions<5,>=4.4.0 in /usr/local/lib/python3.11/dist-packages (from streamlit) (4.13.0)\n",
      "Requirement already satisfied: watchdog<7,>=2.1.5 in /usr/local/lib/python3.11/dist-packages (from streamlit) (6.0.0)\n",
      "Requirement already satisfied: gitpython!=3.1.19,<4,>=3.0.7 in /usr/local/lib/python3.11/dist-packages (from streamlit) (3.1.44)\n",
      "Requirement already satisfied: pydeck<1,>=0.8.0b4 in /usr/local/lib/python3.11/dist-packages (from streamlit) (0.9.1)\n",
      "Requirement already satisfied: tornado<7,>=6.0.3 in /usr/local/lib/python3.11/dist-packages (from streamlit) (6.4.2)\n",
      "Requirement already satisfied: PyYAML>=5.1 in /usr/local/lib/python3.11/dist-packages (from pyngrok) (6.0.2)\n",
      "Requirement already satisfied: jinja2 in /usr/local/lib/python3.11/dist-packages (from altair<6,>=4.0->streamlit) (3.1.6)\n",
      "Requirement already satisfied: jsonschema>=3.0 in /usr/local/lib/python3.11/dist-packages (from altair<6,>=4.0->streamlit) (4.23.0)\n",
      "Requirement already satisfied: narwhals>=1.14.2 in /usr/local/lib/python3.11/dist-packages (from altair<6,>=4.0->streamlit) (1.32.0)\n",
      "Requirement already satisfied: gitdb<5,>=4.0.1 in /usr/local/lib/python3.11/dist-packages (from gitpython!=3.1.19,<4,>=3.0.7->streamlit) (4.0.12)\n",
      "Requirement already satisfied: python-dateutil>=2.8.2 in /usr/local/lib/python3.11/dist-packages (from pandas<3,>=1.4.0->streamlit) (2.8.2)\n",
      "Requirement already satisfied: pytz>=2020.1 in /usr/local/lib/python3.11/dist-packages (from pandas<3,>=1.4.0->streamlit) (2025.2)\n",
      "Requirement already satisfied: tzdata>=2022.7 in /usr/local/lib/python3.11/dist-packages (from pandas<3,>=1.4.0->streamlit) (2025.2)\n",
      "Requirement already satisfied: charset-normalizer<4,>=2 in /usr/local/lib/python3.11/dist-packages (from requests<3,>=2.27->streamlit) (3.4.1)\n",
      "Requirement already satisfied: idna<4,>=2.5 in /usr/local/lib/python3.11/dist-packages (from requests<3,>=2.27->streamlit) (3.10)\n",
      "Requirement already satisfied: urllib3<3,>=1.21.1 in /usr/local/lib/python3.11/dist-packages (from requests<3,>=2.27->streamlit) (2.3.0)\n",
      "Requirement already satisfied: certifi>=2017.4.17 in /usr/local/lib/python3.11/dist-packages (from requests<3,>=2.27->streamlit) (2025.1.31)\n",
      "Requirement already satisfied: smmap<6,>=3.0.1 in /usr/local/lib/python3.11/dist-packages (from gitdb<5,>=4.0.1->gitpython!=3.1.19,<4,>=3.0.7->streamlit) (5.0.2)\n",
      "Requirement already satisfied: MarkupSafe>=2.0 in /usr/local/lib/python3.11/dist-packages (from jinja2->altair<6,>=4.0->streamlit) (3.0.2)\n",
      "Requirement already satisfied: attrs>=22.2.0 in /usr/local/lib/python3.11/dist-packages (from jsonschema>=3.0->altair<6,>=4.0->streamlit) (25.3.0)\n",
      "Requirement already satisfied: jsonschema-specifications>=2023.03.6 in /usr/local/lib/python3.11/dist-packages (from jsonschema>=3.0->altair<6,>=4.0->streamlit) (2024.10.1)\n",
      "Requirement already satisfied: referencing>=0.28.4 in /usr/local/lib/python3.11/dist-packages (from jsonschema>=3.0->altair<6,>=4.0->streamlit) (0.36.2)\n",
      "Requirement already satisfied: rpds-py>=0.7.1 in /usr/local/lib/python3.11/dist-packages (from jsonschema>=3.0->altair<6,>=4.0->streamlit) (0.24.0)\n",
      "Requirement already satisfied: six>=1.5 in /usr/local/lib/python3.11/dist-packages (from python-dateutil>=2.8.2->pandas<3,>=1.4.0->streamlit) (1.17.0)\n"
     ]
    }
   ],
   "source": [
    "!pip install streamlit pyngrok"
   ]
  },
  {
   "cell_type": "code",
   "execution_count": 26,
   "metadata": {
    "colab": {
     "base_uri": "https://localhost:8080/"
    },
    "executionInfo": {
     "elapsed": 5055,
     "status": "ok",
     "timestamp": 1743698559509,
     "user": {
      "displayName": "Arabinda",
      "userId": "03145531324300983882"
     },
     "user_tz": -330
    },
    "id": "sZGX8rezeMXS",
    "outputId": "46b60c2f-8d01-43cd-c661-4cd9c9bc4ce4"
   },
   "outputs": [
    {
     "name": "stdout",
     "output_type": "stream",
     "text": [
      "Requirement already satisfied: llama-cpp-python in /usr/local/lib/python3.11/dist-packages (0.3.8)\n",
      "Requirement already satisfied: typing-extensions>=4.5.0 in /usr/local/lib/python3.11/dist-packages (from llama-cpp-python) (4.13.0)\n",
      "Requirement already satisfied: numpy>=1.20.0 in /usr/local/lib/python3.11/dist-packages (from llama-cpp-python) (2.0.2)\n",
      "Requirement already satisfied: diskcache>=5.6.1 in /usr/local/lib/python3.11/dist-packages (from llama-cpp-python) (5.6.3)\n",
      "Requirement already satisfied: jinja2>=2.11.3 in /usr/local/lib/python3.11/dist-packages (from llama-cpp-python) (3.1.6)\n",
      "Requirement already satisfied: MarkupSafe>=2.0 in /usr/local/lib/python3.11/dist-packages (from jinja2>=2.11.3->llama-cpp-python) (3.0.2)\n"
     ]
    }
   ],
   "source": [
    "!pip install llama-cpp-python"
   ]
  },
  {
   "cell_type": "code",
   "execution_count": null,
   "metadata": {
    "executionInfo": {
     "elapsed": 365,
     "status": "ok",
     "timestamp": 1743698567814,
     "user": {
      "displayName": "Arabinda",
      "userId": "03145531324300983882"
     },
     "user_tz": -330
    },
    "id": "v-5x2qTKeQkS"
   },
   "outputs": [],
   "source": [
    "from huggingface_hub import login\n",
    "login(\"YOUR_HUGGINGFACE_TOKEN\")"
   ]
  },
  {
   "cell_type": "code",
   "execution_count": 40,
   "metadata": {
    "colab": {
     "base_uri": "https://localhost:8080/"
    },
    "executionInfo": {
     "elapsed": 16,
     "status": "ok",
     "timestamp": 1743699183851,
     "user": {
      "displayName": "Arabinda",
      "userId": "03145531324300983882"
     },
     "user_tz": -330
    },
    "id": "EK5JLafoe_I4",
    "outputId": "8235afe4-0f74-4786-d05d-4ce21485ac98"
   },
   "outputs": [
    {
     "name": "stdout",
     "output_type": "stream",
     "text": [
      "Overwriting app.py\n"
     ]
    }
   ],
   "source": [
    "%%writefile app.py\n",
    "\n",
    "import streamlit as st\n",
    "import torch\n",
    "from diffusers import StableDiffusionXLPipeline\n",
    "from transformers import pipeline\n",
    "import os\n",
    "import zipfile\n",
    "from io import BytesIO\n",
    "\n",
    "# Set Page Configuration\n",
    "st.set_page_config(page_title=\"AI Comic Crafter\", page_icon=\"🦸\", layout=\"wide\")\n",
    "\n",
    "# Load Stable Diffusion Model (Hugging Face Diffusers)\n",
    "@st.cache_resource\n",
    "def load_sd_model():\n",
    "    model_id = \"stabilityai/stable-diffusion-xl-base-1.0\"\n",
    "    pipe = StableDiffusionXLPipeline.from_pretrained(\n",
    "        model_id,\n",
    "        torch_dtype=torch.float16 if torch.cuda.is_available() else torch.float32\n",
    "    )\n",
    "    pipe.to(\"cuda\" if torch.cuda.is_available() else \"cpu\")\n",
    "    return pipe\n",
    "\n",
    "pipe = load_sd_model()\n",
    "\n",
    "# Load a Smaller LLM Model (GPT-2 for Text Generation)\n",
    "@st.cache_resource\n",
    "def load_llm():\n",
    "    return pipeline(\"text-generation\", model=\"gpt2\")\n",
    "\n",
    "llm = load_llm()\n",
    "\n",
    "# Custom Styling for UI\n",
    "st.markdown(\n",
    "    \"\"\"\n",
    "    <style>\n",
    "        .title-text {\n",
    "            text-align: center;\n",
    "            font-size: 42px;\n",
    "            font-weight: bold;\n",
    "            color: #ff4b4b;\n",
    "        }\n",
    "        .story-section {\n",
    "            padding: 10px;\n",
    "            background-color: #f5f5f5;\n",
    "            border-radius: 10px;\n",
    "        }\n",
    "        .stButton>button {\n",
    "            width: 100%;\n",
    "            background-color: #ff4b4b;\n",
    "            color: white !important;\n",
    "            transition: background-color 0.3s ease-in-out;\n",
    "        }\n",
    "        .stButton>button:hover {\n",
    "            background-color: #e03e3e;\n",
    "        }\n",
    "    </style>\n",
    "    \"\"\", unsafe_allow_html=True\n",
    ")\n",
    "\n",
    "# Title\n",
    "st.markdown('<div class=\"title-text\">🎨 AI Comic Crafter 🦸</div>', unsafe_allow_html=True)\n",
    "st.write(\"Create AI-powered comics with engaging stories and artistic visuals!\")\n",
    "\n",
    "# Sidebar Settings\n",
    "st.sidebar.header(\"📜 **Story Settings**\")\n",
    "genre = st.sidebar.selectbox(\"Choose a Genre\", [\"Superhero\", \"Fantasy\", \"Sci-Fi\", \"Mystery\"])\n",
    "style = st.sidebar.selectbox(\"Comic Style\", [\"Manga\", \"Cartoon\", \"Realistic\", \"Vintage\"])\n",
    "\n",
    "# Generate Story Using LLM\n",
    "if st.button(\"🤖 Generate AI Story\"):\n",
    "    with st.spinner(\"Generating story elements...\"):\n",
    "        prompt = f\"Write a {genre} story. Introduction:\"\n",
    "        introduction = llm(prompt, max_length=50)[0]['generated_text']\n",
    "\n",
    "        prompt = f\"Continue the {genre} story with an exciting storyline:\"\n",
    "        storyline = llm(prompt, max_length=100)[0]['generated_text']\n",
    "\n",
    "        prompt = f\"Write the climax of the {genre} story:\"\n",
    "        climax = llm(prompt, max_length=50)[0]['generated_text']\n",
    "\n",
    "        prompt = f\"Conclude the {genre} story with a moral:\"\n",
    "        moral = llm(prompt, max_length=40)[0]['generated_text']\n",
    "\n",
    "    # Update the existing text areas with generated content\n",
    "    st.session_state[\"introduction\"] = introduction\n",
    "    st.session_state[\"storyline\"] = storyline\n",
    "    st.session_state[\"climax\"] = climax\n",
    "    st.session_state[\"moral\"] = moral\n",
    "\n",
    "# Main Story Input Section with Existing Fields\n",
    "st.markdown(\"### 📝 **Enter Your Story Elements:**\")\n",
    "col1, col2 = st.columns(2)\n",
    "\n",
    "with col1:\n",
    "    introduction = st.text_area(\"🔹 Introduction\", st.session_state.get(\"introduction\", \"\"))\n",
    "    climax = st.text_area(\"🔹 Climax\", st.session_state.get(\"climax\", \"\"))\n",
    "\n",
    "with col2:\n",
    "    storyline = st.text_area(\"🔹 Storyline\", st.session_state.get(\"storyline\", \"\"))\n",
    "    moral = st.text_area(\"🔹 Moral\", st.session_state.get(\"moral\", \"\"))\n",
    "\n",
    "# Function to Generate Comic-Style Images\n",
    "def generate_comic_images(prompts):\n",
    "    image_paths = []\n",
    "    for i, prompt in enumerate(prompts):\n",
    "        panel_prompt = f\"{prompt}, {style} comic-style, highly detailed, vibrant colors\"\n",
    "        image = pipe(prompt=panel_prompt).images[0]  # Generate image\n",
    "        image_path = f\"comic_panel_{i+1}.png\"\n",
    "        image.save(image_path)\n",
    "        image_paths.append(image_path)\n",
    "    return image_paths\n",
    "\n",
    "# Generate Story & Images\n",
    "# Generate Story & Images\n",
    "if st.button(\"🦸 Generate Comic Panels\"):\n",
    "    st.markdown(\"## 📖 **Generated Comic Panels:**\")\n",
    "\n",
    "    with st.spinner(\"Generating Comic Panels... 🖌️\"):\n",
    "        image_paths = generate_comic_images([introduction, storyline, climax, moral])\n",
    "\n",
    "    story_parts = [\"Introduction\", \"Storyline\", \"Climax\", \"Moral\"]\n",
    "    story_texts = [introduction, storyline, climax, moral]\n",
    "\n",
    "    for i, img_path in enumerate(image_paths):\n",
    "        # Display the story text before each image\n",
    "        st.markdown(f\"### {story_parts[i]}: {story_texts[i]}\")\n",
    "        st.image(img_path, use_container_width=True)\n",
    "\n",
    "    # Zip and provide download button\n",
    "    if image_paths:\n",
    "        zip_buffer = BytesIO()\n",
    "        with zipfile.ZipFile(zip_buffer, \"w\") as zip_file:\n",
    "            for img_path in image_paths:\n",
    "                zip_file.write(img_path)\n",
    "        zip_buffer.seek(0)\n",
    "        st.sidebar.download_button(\n",
    "            label=\"📥 Download All Panels\",\n",
    "            data=zip_buffer,\n",
    "            file_name=\"comic_panels.zip\",\n",
    "            mime=\"application/zip\"\n",
    "        )\n",
    "\n",
    "\n",
    "# Footer\n",
    "st.sidebar.markdown(\"---\")\n",
    "st.sidebar.write(\"✨ **Created by Arabinda Bhowmick** 🚀\")\n"
   ]
  },
  {
   "cell_type": "code",
   "execution_count": 41,
   "metadata": {
    "executionInfo": {
     "elapsed": 121,
     "status": "ok",
     "timestamp": 1743699185335,
     "user": {
      "displayName": "Arabinda",
      "userId": "03145531324300983882"
     },
     "user_tz": -330
    },
    "id": "IK6T9jmKfBbL"
   },
   "outputs": [],
   "source": [
    "!pkill -f ngrok"
   ]
  },
  {
   "cell_type": "code",
   "execution_count": null,
   "metadata": {
    "colab": {
     "base_uri": "https://localhost:8080/"
    },
    "executionInfo": {
     "elapsed": 423,
     "status": "ok",
     "timestamp": 1743699186350,
     "user": {
      "displayName": "Arabinda",
      "userId": "03145531324300983882"
     },
     "user_tz": -330
    },
    "id": "DdU_thDPfDtg",
    "outputId": "508caf63-7c6b-4d46-fdf8-7d08fb0314b8"
   },
   "outputs": [
    {
     "name": "stdout",
     "output_type": "stream",
     "text": [
      "Authtoken saved to configuration file: /root/.config/ngrok/ngrok.yml\n"
     ]
    }
   ],
   "source": [
    "!ngrok authtoken YOUR_NGROK_AUTHTOKEN"
   ]
  },
  {
   "cell_type": "code",
   "execution_count": 43,
   "metadata": {
    "colab": {
     "base_uri": "https://localhost:8080/"
    },
    "executionInfo": {
     "elapsed": 543,
     "status": "ok",
     "timestamp": 1743699187612,
     "user": {
      "displayName": "Arabinda",
      "userId": "03145531324300983882"
     },
     "user_tz": -330
    },
    "id": "mEgUHGW4fF1y",
    "outputId": "877414c9-83ae-4ab0-ff45-4835191b4361"
   },
   "outputs": [
    {
     "name": "stdout",
     "output_type": "stream",
     "text": [
      "Streamlit app is live at: NgrokTunnel: \"https://e22c-34-83-49-51.ngrok-free.app\" -> \"http://localhost:8501\"\n"
     ]
    }
   ],
   "source": [
    "from pyngrok import ngrok\n",
    "import os\n",
    "\n",
    "# Run Streamlit in the background\n",
    "os.system(\"streamlit run app.py &\")\n",
    "\n",
    "# Expose port 8501 (Streamlit's default port)\n",
    "public_url = ngrok.connect(8501)\n",
    "print(f\"Streamlit app is live at: {public_url}\")"
   ]
  },
  {
   "cell_type": "code",
   "execution_count": 24,
   "metadata": {
    "executionInfo": {
     "elapsed": 7,
     "status": "ok",
     "timestamp": 1743698491726,
     "user": {
      "displayName": "Arabinda",
      "userId": "03145531324300983882"
     },
     "user_tz": -330
    },
    "id": "G7ZYH2iSfIDw"
   },
   "outputs": [],
   "source": []
  }
 ],
 "metadata": {
  "accelerator": "GPU",
  "colab": {
   "authorship_tag": "ABX9TyOirTz64lpTeg9Sqfxu8i0+",
   "gpuType": "T4",
   "provenance": []
  },
  "kernelspec": {
   "display_name": "Python 3",
   "name": "python3"
  },
  "language_info": {
   "name": "python"
  }
 },
 "nbformat": 4,
 "nbformat_minor": 0
}
